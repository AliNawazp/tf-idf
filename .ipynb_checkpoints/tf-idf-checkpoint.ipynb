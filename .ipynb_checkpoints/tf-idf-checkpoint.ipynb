{
 "cells": [
  {
   "cell_type": "code",
   "execution_count": 1,
   "id": "7a4ef5f9",
   "metadata": {},
   "outputs": [],
   "source": [
    "from sklearn.feature_extraction.text import TfidfVectorizer\n",
    "from collections import Counter\n",
    "from tqdm import tqdm\n",
    "from scipy.sparse import csr_matrix\n",
    "import math\n",
    "import operator\n",
    "from sklearn.preprocessing import normalize\n",
    "import numpy as np"
   ]
  },
  {
   "cell_type": "markdown",
   "id": "9ebfc343",
   "metadata": {},
   "source": [
    "# tf-idf (term frequency inverse document frequency)"
   ]
  },
  {
   "cell_type": "code",
   "execution_count": 2,
   "id": "1c36d1c8",
   "metadata": {},
   "outputs": [],
   "source": [
    "corpus = [\n",
    "     'this is the first document',\n",
    "     'this document is the second document',\n",
    "     'and this is the third one',\n",
    "     'is this the first document',\n",
    "]"
   ]
  },
  {
   "cell_type": "code",
   "execution_count": 3,
   "id": "048ac4c1",
   "metadata": {},
   "outputs": [],
   "source": [
    "def fit(dataset):    \n",
    "    unique_words = set() # at first we will initialize an empty set\n",
    "    # check if its list type or not\n",
    "    if isinstance(dataset, list):\n",
    "        for row in dataset: # for each review in the dataset\n",
    "            for word in row.split(\" \"): # for each word in the review. #split method converts a string into list of words\n",
    "                if len(word) < 2:\n",
    "                    continue\n",
    "                unique_words.add(word)\n",
    "        unique_words = sorted(list(unique_words))\n",
    "        vocab = {j:i for i,j in enumerate(unique_words)}\n",
    "        \n",
    "        return vocab\n",
    "    else:\n",
    "        print(\"you need to pass list of sentance\")\n",
    "\n",
    "\n",
    "def tf(w,r): #here we are creating function to calculate the term_frequency\n",
    "    # create new reveiw which length>=2\n",
    "    d=dict(Counter(r.split(\" \"))) # creating dictionary, word as key and number of times that word occured in r as value\n",
    "    n_w=d.get(w) # using get method to get the value of key which corresponds as key\n",
    "    T=len(r.split(\" \")) # getting total number of words in review\n",
    "    return n_w/T # formula for term frequency\n",
    "\n",
    "def idf(w,dataset): #here creating idf function to calculate idf value\n",
    "    N=len(dataset)  # length of all reviews in dataset\n",
    "    n_i=0           # intialising variable \n",
    "    for r in dataset: # iterating through dataset to find (in how many reviews our word exists)\n",
    "        if w in r:\n",
    "            n_i=n_i+1\n",
    "    return 1+(np.log((N+1)/(n_i+1))) # formula of idf which is used by sklearn but actual formual is np.log(N/n_i)\n",
    "            \n",
    "    \n",
    "def transform(dataset,vocab):\n",
    "    rows=[]\n",
    "    columns=[]\n",
    "    values=[]\n",
    "    if isinstance(dataset,list):\n",
    "        for idx,r in enumerate(dataset):\n",
    "            for w in r.split(\" \"):\n",
    "                if len(w) < 2:\n",
    "                     continue\n",
    "                col_index = vocab.get(w, -1)\n",
    "                if col_index !=-1:\n",
    "                    rows.append(idx)\n",
    "                    columns.append(col_index)\n",
    "                    values.append(tf(w,r)*idf(w,dataset))\n",
    "                \n",
    "        return csr_matrix((values,(rows,columns)),shape=(len(dataset),len(vocab)))"
   ]
  },
  {
   "cell_type": "code",
   "execution_count": 4,
   "id": "70826604",
   "metadata": {},
   "outputs": [
    {
     "name": "stdout",
     "output_type": "stream",
     "text": [
      "{'and': 0, 'document': 1, 'first': 2, 'is': 3, 'one': 4, 'second': 5, 'the': 6, 'third': 7, 'this': 8}\n",
      "sparse matrix representation is given by\n",
      "   (0, 1)\t0.24462871026284194\n",
      "  (0, 2)\t0.3021651247531982\n",
      "  (0, 3)\t0.2\n",
      "  (0, 6)\t0.2\n",
      "  (0, 8)\t0.2\n",
      "  (1, 1)\t0.8154290342094731\n",
      "  (1, 3)\t0.16666666666666666\n",
      "  (1, 5)\t0.3193817886456925\n",
      "  (1, 6)\t0.16666666666666666\n",
      "  (1, 8)\t0.16666666666666666\n",
      "  (2, 0)\t0.3193817886456925\n",
      "  (2, 3)\t0.16666666666666666\n",
      "  (2, 4)\t0.3193817886456925\n",
      "  (2, 6)\t0.16666666666666666\n",
      "  (2, 7)\t0.3193817886456925\n",
      "  (2, 8)\t0.16666666666666666\n",
      "  (3, 1)\t0.24462871026284194\n",
      "  (3, 2)\t0.3021651247531982\n",
      "  (3, 3)\t0.2\n",
      "  (3, 6)\t0.2\n",
      "  (3, 8)\t0.2\n",
      "*******************************************************************************************************************\n",
      "before normalising\n",
      " [[0.         0.24462871 0.30216512 0.2        0.         0.\n",
      "  0.2        0.         0.2       ]\n",
      " [0.         0.81542903 0.         0.16666667 0.         0.31938179\n",
      "  0.16666667 0.         0.16666667]\n",
      " [0.31938179 0.         0.         0.16666667 0.31938179 0.\n",
      "  0.16666667 0.31938179 0.16666667]\n",
      " [0.         0.24462871 0.30216512 0.2        0.         0.\n",
      "  0.2        0.         0.2       ]]\n",
      "*******************************************************************************************************************\n",
      "after normalising\n",
      " [[0.         0.46979139 0.58028582 0.38408524 0.         0.\n",
      "  0.38408524 0.         0.38408524]\n",
      " [0.         0.88432039 0.         0.18074747 0.         0.3463647\n",
      "  0.18074747 0.         0.18074747]\n",
      " [0.51184851 0.         0.         0.26710379 0.51184851 0.\n",
      "  0.26710379 0.51184851 0.26710379]\n",
      " [0.         0.46979139 0.58028582 0.38408524 0.         0.\n",
      "  0.38408524 0.         0.38408524]]\n"
     ]
    }
   ],
   "source": [
    "vocab=fit(corpus)\n",
    "print(vocab)\n",
    "temp=transform(corpus,vocab)\n",
    "print(\"sparse matrix representation is given by\\n\",temp)\n",
    "print(5*\"***********************\")\n",
    "print(\"before normalising\\n\",temp.toarray())\n",
    "print(5*\"***********************\")\n",
    "print(\"after normalising\\n\",normalize(temp).toarray()) #we normalising because in sklearn output is normalised"
   ]
  },
  {
   "cell_type": "markdown",
   "id": "acd57464",
   "metadata": {},
   "source": [
    "# cross validation using sklearn library"
   ]
  },
  {
   "cell_type": "code",
   "execution_count": 5,
   "id": "5d6e44d0",
   "metadata": {},
   "outputs": [],
   "source": [
    "vectorizer = TfidfVectorizer()\n",
    "vectorizer.fit(corpus)\n",
    "skl_output = vectorizer.transform(corpus)"
   ]
  },
  {
   "cell_type": "code",
   "execution_count": 6,
   "id": "d3f16803",
   "metadata": {},
   "outputs": [
    {
     "name": "stdout",
     "output_type": "stream",
     "text": [
      "['and', 'document', 'first', 'is', 'one', 'second', 'the', 'third', 'this']\n"
     ]
    }
   ],
   "source": [
    "print(vectorizer.get_feature_names())"
   ]
  },
  {
   "cell_type": "code",
   "execution_count": 7,
   "id": "644e00f7",
   "metadata": {},
   "outputs": [
    {
     "name": "stdout",
     "output_type": "stream",
     "text": [
      "[1.91629073 1.22314355 1.51082562 1.         1.91629073 1.91629073\n",
      " 1.         1.91629073 1.        ]\n"
     ]
    }
   ],
   "source": [
    "print(vectorizer.idf_)"
   ]
  },
  {
   "cell_type": "code",
   "execution_count": 8,
   "id": "95bc86aa",
   "metadata": {},
   "outputs": [
    {
     "data": {
      "text/plain": [
       "(4, 9)"
      ]
     },
     "execution_count": 8,
     "metadata": {},
     "output_type": "execute_result"
    }
   ],
   "source": [
    "skl_output.shape"
   ]
  },
  {
   "cell_type": "code",
   "execution_count": 9,
   "id": "91204b3b",
   "metadata": {},
   "outputs": [
    {
     "name": "stdout",
     "output_type": "stream",
     "text": [
      "  (0, 8)\t0.38408524091481483\n",
      "  (0, 6)\t0.38408524091481483\n",
      "  (0, 3)\t0.38408524091481483\n",
      "  (0, 2)\t0.5802858236844359\n",
      "  (0, 1)\t0.46979138557992045\n"
     ]
    }
   ],
   "source": [
    "print(skl_output[0])"
   ]
  },
  {
   "cell_type": "code",
   "execution_count": 10,
   "id": "e30967f2",
   "metadata": {},
   "outputs": [
    {
     "name": "stdout",
     "output_type": "stream",
     "text": [
      "[[0.         0.46979139 0.58028582 0.38408524 0.         0.\n",
      "  0.38408524 0.         0.38408524]]\n"
     ]
    }
   ],
   "source": [
    "print(skl_output[0].toarray())"
   ]
  },
  {
   "cell_type": "markdown",
   "id": "89cae6ca",
   "metadata": {},
   "source": [
    "# now applying tfidf on file"
   ]
  },
  {
   "cell_type": "code",
   "execution_count": 11,
   "id": "cb918e59",
   "metadata": {},
   "outputs": [
    {
     "name": "stdout",
     "output_type": "stream",
     "text": [
      "  (0, 53)\t0.865364750571609\n",
      "  (0, 688)\t0.865364750571609\n",
      "  (0, 720)\t0.865364750571609\n",
      "  (0, 1545)\t0.46052994405106146\n",
      "  (0, 1651)\t0.3282040747942601\n",
      "  (0, 1653)\t0.708769379509688\n",
      "  (0, 2287)\t0.6920779554316226\n",
      "  (0, 2878)\t0.7280382144880952\n",
      "  (1, 149)\t0.6471450795449735\n",
      "  (1, 374)\t0.4611476980370101\n",
      "  (1, 966)\t0.724161432940523\n",
      "  (1, 1132)\t0.615180404828109\n",
      "  (1, 1511)\t0.6674030302998574\n",
      "  (1, 1676)\t0.7692131116192079\n",
      "  (1, 1712)\t0.30454087354796283\n",
      "  (1, 2446)\t0.6471450795449735\n",
      "  (1, 2764)\t0.724161432940523\n",
      "  (2, 20)\t0.206693985843099\n",
      "  (2, 64)\t0.2796568469546722\n",
      "  (2, 89)\t0.3430238366560372\n",
      "  (2, 124)\t0.36436410550383536\n",
      "  (2, 145)\t0.36436410550383536\n",
      "  (2, 201)\t0.3430238366560372\n",
      "  (2, 236)\t0.2796568469546722\n",
      "  (2, 320)\t0.270060975544464\n",
      "  :\t:\n",
      "  (741, 268)\t0.8580896103855309\n",
      "  (741, 429)\t0.9889882863675531\n",
      "  (741, 1096)\t0.7011449977186582\n",
      "  (741, 1354)\t0.9889882863675531\n",
      "  (741, 1422)\t0.9310646994949582\n",
      "  (741, 2471)\t0.7454528446192066\n",
      "  (741, 2785)\t0.6673751722809108\n",
      "  (742, 939)\t0.3316525693591138\n",
      "  (742, 1511)\t0.7508284090873396\n",
      "  (742, 1936)\t0.7280382144880952\n",
      "  (742, 2029)\t0.865364750571609\n",
      "  (742, 2173)\t0.5775416139473533\n",
      "  (742, 2675)\t0.7508284090873396\n",
      "  (742, 2745)\t0.865364750571609\n",
      "  (742, 2846)\t0.540028539891061\n",
      "  (743, 769)\t3.1148854120064633\n",
      "  (743, 2844)\t2.6567400460693857\n",
      "  (744, 175)\t1.7865069586491336\n",
      "  (744, 843)\t3.461459002286436\n",
      "  (745, 1230)\t1.001104545449786\n",
      "  (745, 1305)\t1.001104545449786\n",
      "  (745, 1309)\t1.001104545449786\n",
      "  (745, 1630)\t0.9707176193174603\n",
      "  (745, 1748)\t0.5157127680139628\n",
      "  (745, 2778)\t0.7786043676610627\n",
      "**********************************************************************\n",
      "before normalizing\n",
      " [[0. 0. 0. ... 0. 0. 0.]\n",
      " [0. 0. 0. ... 0. 0. 0.]\n",
      " [0. 0. 0. ... 0. 0. 0.]\n",
      " ...\n",
      " [0. 0. 0. ... 0. 0. 0.]\n",
      " [0. 0. 0. ... 0. 0. 0.]\n",
      " [0. 0. 0. ... 0. 0. 0.]]\n",
      "**********************************************************************\n",
      "after normalizing\n",
      " [[0. 0. 0. ... 0. 0. 0.]\n",
      " [0. 0. 0. ... 0. 0. 0.]\n",
      " [0. 0. 0. ... 0. 0. 0.]\n",
      " ...\n",
      " [0. 0. 0. ... 0. 0. 0.]\n",
      " [0. 0. 0. ... 0. 0. 0.]\n",
      " [0. 0. 0. ... 0. 0. 0.]]\n"
     ]
    }
   ],
   "source": [
    "import pickle\n",
    "with open('cleaned_strings', 'rb') as f:\n",
    "    corpus = pickle.load(f)\n",
    "    \n",
    "# printing the length of the corpus loaded\n",
    "#print(\"Number of documents in corpus = \",len(corpus))\n",
    "vocab=fit(corpus)\n",
    "temp=transform(corpus,vocab)\n",
    "print(temp)\n",
    "print(70*\"*\")\n",
    "print(\"before normalizing\\n\",temp.toarray())\n",
    "print(70*\"*\")\n",
    "print(\"after normalizing\\n\",normalize(temp).toarray())"
   ]
  },
  {
   "cell_type": "code",
   "execution_count": null,
   "id": "514dbfc8",
   "metadata": {},
   "outputs": [],
   "source": []
  }
 ],
 "metadata": {
  "kernelspec": {
   "display_name": "Python 3",
   "language": "python",
   "name": "python3"
  },
  "language_info": {
   "codemirror_mode": {
    "name": "ipython",
    "version": 3
   },
   "file_extension": ".py",
   "mimetype": "text/x-python",
   "name": "python",
   "nbconvert_exporter": "python",
   "pygments_lexer": "ipython3",
   "version": "3.8.8"
  }
 },
 "nbformat": 4,
 "nbformat_minor": 5
}
